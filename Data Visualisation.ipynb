{
 "cells": [
  {
   "cell_type": "code",
   "execution_count": 1,
   "id": "99f08b5f",
   "metadata": {},
   "outputs": [],
   "source": [
    "import sys, os\n",
    "import matplotlib.pyplot as plt\n",
    "\n",
    "root_dir = os.getcwd() + '/finaldata'\n",
    "train_dir = root_dir + '/train/'\n",
    "# val_dir = root_dir + '/val/'\n",
    "test_dir = root_dir + '/test/'"
   ]
  },
  {
   "cell_type": "code",
   "execution_count": 2,
   "id": "2de47d23",
   "metadata": {},
   "outputs": [],
   "source": [
    "def get_value(root, split=0, train=False):\n",
    "    imgs=[os.path.join(root,f) for f in os.listdir(root)]\n",
    "    if split and train:\n",
    "        count = len(imgs)\n",
    "        imgs = imgs[:int(split * count)]\n",
    "    elif split and not train:\n",
    "        count = len(imgs)\n",
    "        imgs = imgs[int(split * count):]\n",
    "    nomask = nonface = face = 0\n",
    "    for img in imgs:\n",
    "        symbol = img.split('/')[-1].split('.')[0].split('_')[-1]\n",
    "        if symbol == 'face': face += 1\n",
    "        elif symbol == 'nomask': nomask += 1\n",
    "        elif symbol == 'nonface': nonface += 1\n",
    "    return [nonface, nomask, face]"
   ]
  },
  {
   "cell_type": "code",
   "execution_count": 3,
   "id": "f848814f",
   "metadata": {},
   "outputs": [
    {
     "name": "stdout",
     "output_type": "stream",
     "text": [
      "[268, 220, 262] [45, 45, 43] [56, 66, 54]\n"
     ]
    },
    {
     "data": {
      "image/png": "[encoded data removed]",
      "text/plain": [
       "<Figure size 432x288 with 1 Axes>"
      ]
     },
     "metadata": {
      "needs_background": "light"
     },
     "output_type": "display_data"
    },
    {
     "data": {
      "image/png": "[encoded data removed]",
      "text/plain": [
       "<Figure size 432x288 with 1 Axes>"
      ]
     },
     "metadata": {
      "needs_background": "light"
     },
     "output_type": "display_data"
    },
    {
     "data": {
      "image/png": "[encoded data removed]",
      "text/plain": [
       "<Figure size 432x288 with 1 Axes>"
      ]
     },
     "metadata": {
      "needs_background": "light"
     },
     "output_type": "display_data"
    },
    {
     "data": {
      "image/png": "[encoded data removed]",
      "text/plain": [
       "<Figure size 432x288 with 1 Axes>"
      ]
     },
     "metadata": {
      "needs_background": "light"
     },
     "output_type": "display_data"
    }
   ],
   "source": [
    "train = get_value(train_dir, 0.85, True)\n",
    "val = get_value(train_dir, 0.85, False)\n",
    "test = get_value(test_dir, 0, False)\n",
    "labels = ['noface', 'nomask', 'face']\n",
    "\n",
    "print(train, val, test)\n",
    "\n",
    "plt.bar(range(len(train)), train, width=0.6, tick_label=labels)\n",
    "plt.show()\n",
    "plt.bar(range(len(val)), val, width=0.6, tick_label=labels, fc='orange')\n",
    "plt.show()\n",
    "plt.bar(range(len(test)), test, width=0.6, tick_label=labels, fc='g')\n",
    "plt.show()\n",
    "\n",
    "import numpy as np\n",
    "\n",
    "x = np.arange(3)\n",
    "total_width, n = 0.8, 3\n",
    "width = total_width / n\n",
    "x = x - (total_width - width) / 2\n",
    " \n",
    "plt.bar(x, train,  width=width, label='train')\n",
    "plt.bar(x + width, val, width=width, label='val')\n",
    "plt.bar(x + 2 * width, test, width=width, label='test')\n",
    "plt.legend()\n",
    "plt.show()"
   ]
  },
  {
   "cell_type": "code",
   "execution_count": null,
   "id": "b71df82b",
   "metadata": {},
   "outputs": [],
   "source": []
  }
 ],
 "metadata": {
  "kernelspec": {
   "display_name": "Python 3",
   "language": "python",
   "name": "python3"
  },
  "language_info": {
   "codemirror_mode": {
    "name": "ipython",
    "version": 3
   },
   "file_extension": ".py",
   "mimetype": "text/x-python",
   "name": "python",
   "nbconvert_exporter": "python",
   "pygments_lexer": "ipython3",
   "version": "3.6.8"
  }
 },
 "nbformat": 4,
 "nbformat_minor": 5
}
